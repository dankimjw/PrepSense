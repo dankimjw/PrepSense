{
 "cells": [
  {
   "cell_type": "markdown",
   "id": "7fb27b941602401d91542211134fc71a",
   "metadata": {},
   "source": [
    "# Query PostgreSQL for user_id = 111\n",
    "\n",
    "This notebook queries all tables in the PostgreSQL database for records with `user_id = 111` and exports the results to CSV and JSON files."
   ]
  },
  {
   "cell_type": "code",
   "execution_count": 1,
   "id": "acae54e37e7d407bbb7b55eff062a284",
   "metadata": {},
   "outputs": [
    {
     "name": "stdout",
     "output_type": "stream",
     "text": [
      "Loading environment from: /Users/danielkim/_Capstone/PrepSense/.env\n",
      "Environment loaded: True\n"
     ]
    }
   ],
   "source": [
    "import os\n",
    "from pathlib import Path\n",
    "\n",
    "import pandas as pd\n",
    "import psycopg2\n",
    "from dotenv import load_dotenv\n",
    "from psycopg2.extras import RealDictCursor\n",
    "\n",
    "# Load environment variables from project root\n",
    "project_root = Path.cwd().parent\n",
    "env_path = project_root / \".env\"\n",
    "load_dotenv(env_path)\n",
    "\n",
    "print(f\"Loading environment from: {env_path}\")\n",
    "print(f\"Environment loaded: {env_path.exists()}\")"
   ]
  },
  {
   "cell_type": "code",
   "execution_count": null,
   "id": "9a63283cbaf04dbcab1f6479b197f3a8",
   "metadata": {},
   "outputs": [
    {
     "name": "stdout",
     "output_type": "stream",
     "text": [
      "DB_HOST: 35.184.61.42\n",
      "DB_PORT: 5432\n",
      "DB_NAME: prepsense\n",
      "DB_USER: postgres\n",
      "DB_PASSWORD: None\n"
     ]
    }
   ],
   "source": [
    "# Database connection parameters\n",
    "DB_HOST = os.getenv(\"POSTGRES_HOST\")\n",
    "DB_PORT = os.getenv(\"POSTGRES_PORT\", 5432)\n",
    "DB_NAME = os.getenv(\"POSTGRES_DATABASE\")\n",
    "DB_USER = os.getenv(\"POSTGRES_USER\")\n",
    "DB_PASSWORD = os.getenv(\"POSTGRES_PASSWORD\")\n",
    "\n",
    "print(f\"DB_HOST: {DB_HOST}\")\n",
    "print(f\"DB_PORT: {DB_PORT}\")\n",
    "print(f\"DB_NAME: {DB_NAME}\")\n",
    "print(f\"DB_USER: {DB_USER}\")\n",
    "print(f'DB_PASSWORD: {\"*\" * len(DB_PASSWORD) if DB_PASSWORD else None}')\n",
    "\n",
    "# User ID to query for\n",
    "USER_ID = 111"
   ]
  },
  {
   "cell_type": "code",
   "execution_count": 18,
   "id": "8dd0d8092fe74a7c96281538738b07e2",
   "metadata": {},
   "outputs": [
    {
     "ename": "OperationalError",
     "evalue": "connection to server at \"35.184.61.42\", port 5432 failed: fe_sendauth: no password supplied\n",
     "output_type": "error",
     "traceback": [
      "\u001b[31m---------------------------------------------------------------------------\u001b[39m",
      "\u001b[31mOperationalError\u001b[39m                          Traceback (most recent call last)",
      "\u001b[36mCell\u001b[39m\u001b[36m \u001b[39m\u001b[32mIn[18]\u001b[39m\u001b[32m, line 2\u001b[39m\n\u001b[32m      1\u001b[39m \u001b[38;5;66;03m# Connect to PostgreSQL\u001b[39;00m\n\u001b[32m----> \u001b[39m\u001b[32m2\u001b[39m conn = \u001b[43mpsycopg2\u001b[49m\u001b[43m.\u001b[49m\u001b[43mconnect\u001b[49m\u001b[43m(\u001b[49m\n\u001b[32m      3\u001b[39m \u001b[43m    \u001b[49m\u001b[43mhost\u001b[49m\u001b[43m=\u001b[49m\u001b[43mDB_HOST\u001b[49m\u001b[43m,\u001b[49m\n\u001b[32m      4\u001b[39m \u001b[43m    \u001b[49m\u001b[43mport\u001b[49m\u001b[43m=\u001b[49m\u001b[43mDB_PORT\u001b[49m\u001b[43m,\u001b[49m\n\u001b[32m      5\u001b[39m \u001b[43m    \u001b[49m\u001b[43mdatabase\u001b[49m\u001b[43m=\u001b[49m\u001b[43mDB_NAME\u001b[49m\u001b[43m,\u001b[49m\n\u001b[32m      6\u001b[39m \u001b[43m    \u001b[49m\u001b[43muser\u001b[49m\u001b[43m=\u001b[49m\u001b[43mDB_USER\u001b[49m\u001b[43m,\u001b[49m\n\u001b[32m      7\u001b[39m \u001b[43m    \u001b[49m\u001b[43mpassword\u001b[49m\u001b[43m=\u001b[49m\u001b[43mDB_PASSWORD\u001b[49m\n\u001b[32m      8\u001b[39m \u001b[43m)\u001b[49m\n\u001b[32m     10\u001b[39m \u001b[38;5;28mprint\u001b[39m(\u001b[33m'\u001b[39m\u001b[33mConnected to PostgreSQL successfully!\u001b[39m\u001b[33m'\u001b[39m)\n\u001b[32m     11\u001b[39m conn.autocommit = \u001b[38;5;28;01mTrue\u001b[39;00m\n",
      "\u001b[36mFile \u001b[39m\u001b[32m~/_Capstone/PrepSense/venv/lib/python3.11/site-packages/psycopg2/__init__.py:149\u001b[39m, in \u001b[36mconnect\u001b[39m\u001b[34m(dsn, connection_factory, cursor_factory, **kwargs)\u001b[39m\n\u001b[32m    146\u001b[39m     kwasync[\u001b[33m\"\u001b[39m\u001b[33masync_\u001b[39m\u001b[33m\"\u001b[39m] = kwargs.pop(\u001b[33m\"\u001b[39m\u001b[33masync_\u001b[39m\u001b[33m\"\u001b[39m)\n\u001b[32m    148\u001b[39m dsn = _ext.make_dsn(dsn, **kwargs)\n\u001b[32m--> \u001b[39m\u001b[32m149\u001b[39m conn = \u001b[43m_connect\u001b[49m\u001b[43m(\u001b[49m\u001b[43mdsn\u001b[49m\u001b[43m,\u001b[49m\u001b[43m \u001b[49m\u001b[43mconnection_factory\u001b[49m\u001b[43m=\u001b[49m\u001b[43mconnection_factory\u001b[49m\u001b[43m,\u001b[49m\u001b[43m \u001b[49m\u001b[43m*\u001b[49m\u001b[43m*\u001b[49m\u001b[43mkwasync\u001b[49m\u001b[43m)\u001b[49m\n\u001b[32m    150\u001b[39m \u001b[38;5;28;01mif\u001b[39;00m cursor_factory \u001b[38;5;129;01mis\u001b[39;00m \u001b[38;5;129;01mnot\u001b[39;00m \u001b[38;5;28;01mNone\u001b[39;00m:\n\u001b[32m    151\u001b[39m     conn.cursor_factory = cursor_factory\n",
      "\u001b[31mOperationalError\u001b[39m: connection to server at \"35.184.61.42\", port 5432 failed: fe_sendauth: no password supplied\n"
     ]
    }
   ],
   "source": [
    "# Connect to PostgreSQL\n",
    "conn = psycopg2.connect(\n",
    "    host=DB_HOST,\n",
    "    port=DB_PORT,\n",
    "    database=DB_NAME,\n",
    "    user=DB_USER,\n",
    "    password=DB_PASSWORD\n",
    ")\n",
    "\n",
    "print(\"Connected to PostgreSQL successfully!\")\n",
    "conn.autocommit = True"
   ]
  },
  {
   "cell_type": "code",
   "execution_count": 5,
   "id": "72eea5119410473aa328ad9291626812",
   "metadata": {},
   "outputs": [
    {
     "name": "stdout",
     "output_type": "stream",
     "text": [
      "Tables with user_id:\n",
      "- public.ai_recipe_cache\n",
      "- public.food_categorization_corrections\n",
      "- public.food_search_history\n",
      "- public.pantries\n",
      "- public.pantry_consumption_trends\n",
      "- public.pantry_history\n",
      "- public.pantry_transaction_logs\n",
      "- public.recipe_completion_analytics\n",
      "- public.recipe_completion_summary\n",
      "- public.recipe_completions\n",
      "- public.search_query_embeddings\n",
      "- public.shopping_list_items\n",
      "- public.spoonacular_api_calls\n",
      "- public.user_allergens\n",
      "- public.user_cuisine_preferences\n",
      "- public.user_dietary_preferences\n",
      "- public.user_pantry_full\n",
      "- public.user_preferences\n",
      "- public.user_recipes\n",
      "- public.user_shopping_list_summary\n",
      "- public.users\n"
     ]
    },
    {
     "data": {
      "text/plain": [
       "21"
      ]
     },
     "execution_count": 5,
     "metadata": {},
     "output_type": "execute_result"
    }
   ],
   "source": [
    "# Find all tables with a user_id column\n",
    "with conn.cursor(cursor_factory=RealDictCursor) as cur:\n",
    "    cur.execute(\"\"\"\n",
    "        SELECT table_schema, table_name\n",
    "        FROM information_schema.columns\n",
    "        WHERE column_name = 'user_id'\n",
    "        AND table_schema NOT IN ('information_schema', 'pg_catalog')\n",
    "        ORDER BY table_schema, table_name;\n",
    "    \"\"\")\n",
    "    tables = [(row[\"table_schema\"], row[\"table_name\"]) for row in cur.fetchall()]\n",
    "\n",
    "if tables:\n",
    "    print(\"Tables with user_id:\")\n",
    "    for schema, table in tables:\n",
    "        print(f\"- {schema}.{table}\")\n",
    "len(tables)"
   ]
  },
  {
   "cell_type": "code",
   "execution_count": 6,
   "id": "8edb47106e1a46a883d545849b8ab81b",
   "metadata": {},
   "outputs": [
    {
     "data": {
      "text/plain": [
       "PosixPath('/Users/danielkim/_Capstone/PrepSense/notebooks/exports')"
      ]
     },
     "execution_count": 6,
     "metadata": {},
     "output_type": "execute_result"
    }
   ],
   "source": [
    "export_dir = Path(\"exports\")\n",
    "export_dir.mkdir(exist_ok=True)\n",
    "export_dir.resolve()"
   ]
  },
  {
   "cell_type": "code",
   "execution_count": 12,
   "id": "10185d26023b46108eb7d9f57d49d2b3",
   "metadata": {},
   "outputs": [
    {
     "name": "stdout",
     "output_type": "stream",
     "text": [
      "Error querying public.ai_recipe_cache: connection already closed\n",
      "Error querying public.food_categorization_corrections: connection already closed\n",
      "Error querying public.food_search_history: connection already closed\n",
      "Error querying public.pantries: connection already closed\n",
      "Error querying public.pantry_consumption_trends: connection already closed\n",
      "Error querying public.pantry_history: connection already closed\n",
      "Error querying public.pantry_transaction_logs: connection already closed\n",
      "Error querying public.recipe_completion_analytics: connection already closed\n",
      "Error querying public.recipe_completion_summary: connection already closed\n",
      "Error querying public.recipe_completions: connection already closed\n",
      "Error querying public.search_query_embeddings: connection already closed\n",
      "Error querying public.shopping_list_items: connection already closed\n",
      "Error querying public.spoonacular_api_calls: connection already closed\n",
      "Error querying public.user_allergens: connection already closed\n",
      "Error querying public.user_cuisine_preferences: connection already closed\n",
      "Error querying public.user_dietary_preferences: connection already closed\n",
      "Error querying public.user_pantry_full: connection already closed\n",
      "Error querying public.user_preferences: connection already closed\n",
      "Error querying public.user_recipes: connection already closed\n",
      "Error querying public.user_shopping_list_summary: connection already closed\n",
      "Error querying public.users: connection already closed\n"
     ]
    },
    {
     "data": {
      "text/html": [
       "<div>\n",
       "<style scoped>\n",
       "    .dataframe tbody tr th:only-of-type {\n",
       "        vertical-align: middle;\n",
       "    }\n",
       "\n",
       "    .dataframe tbody tr th {\n",
       "        vertical-align: top;\n",
       "    }\n",
       "\n",
       "    .dataframe thead th {\n",
       "        text-align: right;\n",
       "    }\n",
       "</style>\n",
       "<table border=\"1\" class=\"dataframe\">\n",
       "  <thead>\n",
       "    <tr style=\"text-align: right;\">\n",
       "      <th></th>\n",
       "      <th>schema</th>\n",
       "      <th>table</th>\n",
       "      <th>rows</th>\n",
       "    </tr>\n",
       "  </thead>\n",
       "  <tbody>\n",
       "  </tbody>\n",
       "</table>\n",
       "</div>"
      ],
      "text/plain": [
       "Empty DataFrame\n",
       "Columns: [schema, table, rows]\n",
       "Index: []"
      ]
     },
     "execution_count": 12,
     "metadata": {},
     "output_type": "execute_result"
    }
   ],
   "source": [
    "def query_table(connection, schema: str, table: str, user_id: int) -> pd.DataFrame:\n",
    "    sql = f'SELECT * FROM {schema}.\"{table}\" WHERE user_id = %s'\n",
    "    with connection.cursor(cursor_factory=RealDictCursor) as cur:\n",
    "        cur.execute(sql, (user_id,))\n",
    "        rows = cur.fetchall()\n",
    "    return pd.DataFrame(rows)\n",
    "\n",
    "summaries = []\n",
    "for schema, table in tables:\n",
    "    try:\n",
    "        df = query_table(conn, schema, table, USER_ID)\n",
    "        if df.empty:\n",
    "            print(f\"No rows for user {USER_ID} in {schema}.{table}\")\n",
    "            continue\n",
    "        csv_path = export_dir / f\"{schema}.{table}.user_{USER_ID}.csv\"\n",
    "        json_path = export_dir / f\"{schema}.{table}.user_{USER_ID}.json\"\n",
    "        df.to_csv(csv_path, index=False)\n",
    "        df.to_json(json_path, orient=\"records\", indent=2, date_format=\"iso\")\n",
    "        print(f\"Exported {len(df)} rows from {schema}.{table} -> {csv_path.name}, {json_path.name}\")\n",
    "        summaries.append({\"schema\": schema, \"table\": table, \"rows\": len(df)})\n",
    "    except Exception as e:\n",
    "        print(f\"Error querying {schema}.{table}: {e}\")\n",
    "\n",
    "pd.DataFrame(summaries).sort_values([\"schema\",\"table\"]).reset_index(drop=True) if summaries else pd.DataFrame(columns=[\"schema\",\"table\",\"rows\"])"
   ]
  },
  {
   "cell_type": "code",
   "execution_count": 11,
   "id": "8763a12b2bbd4a93a75aff182afb95dc",
   "metadata": {},
   "outputs": [
    {
     "name": "stdout",
     "output_type": "stream",
     "text": [
      "Error previewing public.user_recipes: connection already closed\n",
      "Error previewing public.user_preferences: connection already closed\n"
     ]
    }
   ],
   "source": [
    "# Optional: peek into key known tables if present\n",
    "key_tables = [\n",
    "    (\"public\", \"pantry_items\"),\n",
    "    (\"public\", \"user_recipes\"),\n",
    "    (\"public\", \"recipe_consumption\"),\n",
    "    (\"public\", \"shopping_lists\"),\n",
    "    (\"public\", \"user_preferences\")\n",
    "]\n",
    "\n",
    "present = {(s,t) for (s,t) in tables}\n",
    "for s, t in key_tables:\n",
    "    if (s, t) in present:\n",
    "        try:\n",
    "            df = query_table(conn, s, t, USER_ID)\n",
    "            print(f\"\\n{s}.{t} preview ({len(df)} rows):\")\n",
    "            print(df.head().to_string())\n",
    "        except Exception as e:\n",
    "            print(f\"Error previewing {s}.{t}: {e}\")"
   ]
  },
  {
   "cell_type": "code",
   "execution_count": 9,
   "id": "7623eae2785240b9bd12b16a66d81610",
   "metadata": {},
   "outputs": [
    {
     "name": "stdout",
     "output_type": "stream",
     "text": [
      "Database connection closed.\n"
     ]
    }
   ],
   "source": [
    "conn.close()\n",
    "print(\"Database connection closed.\")"
   ]
  },
  {
   "cell_type": "markdown",
   "id": "7cdc8c89c7104fffa095e18ddfef8986",
   "metadata": {},
   "source": [
    "## Done\n",
    "- Exports saved in `notebooks/exports/` relative to this notebook.\n",
    "- Adjust `USER_ID` or env variables as needed and re-run."
   ]
  }
 ],
 "metadata": {
  "kernelspec": {
   "display_name": "Python (prepsense-venv)",
   "language": "python",
   "name": "prepsense-venv"
  },
  "language_info": {
   "codemirror_mode": {
    "name": "ipython",
    "version": 3
   },
   "file_extension": ".py",
   "mimetype": "text/x-python",
   "name": "python",
   "nbconvert_exporter": "python",
   "pygments_lexer": "ipython3",
   "version": "3.11.6"
  }
 },
 "nbformat": 4,
 "nbformat_minor": 5
}
