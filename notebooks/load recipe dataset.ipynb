{
 "cells": [
  {
   "cell_type": "code",
   "execution_count": 22,
   "id": "34613e22-49ff-4215-bcc3-73ae2dcce0c7",
   "metadata": {},
   "outputs": [],
   "source": [
    "#pip install gcsfs"
   ]
  },
  {
   "cell_type": "code",
   "execution_count": 23,
   "id": "12686b49-7cca-4a9b-ae27-e70dca307a60",
   "metadata": {
    "tags": []
   },
   "outputs": [],
   "source": [
    "#pip install datasets"
   ]
  },
  {
   "cell_type": "code",
   "execution_count": 24,
   "id": "47b7bdaf-2d31-418d-afb7-a0ca85e7e9d3",
   "metadata": {
    "tags": []
   },
   "outputs": [],
   "source": [
    "from datasets import load_dataset\n",
    "from gcsfs import GCSFileSystem\n",
    "\n",
    "fs = GCSFileSystem()\n",
    "\n",
    "ds = load_dataset(\"AkashPS11/recipes_data_food.com\")"
   ]
  },
  {
   "cell_type": "code",
   "execution_count": 25,
   "id": "a1231ca6-a3a9-4730-a48c-c3e9a77e0b44",
   "metadata": {
    "tags": []
   },
   "outputs": [],
   "source": [
    "#ds.save_to_disk(\"gs://adsp-34002-on02-prep-sense/Data/recipies dataset\")"
   ]
  },
  {
   "cell_type": "code",
   "execution_count": 26,
   "id": "1a1df22f-d7b6-49d6-8835-d786ed4d2e6e",
   "metadata": {},
   "outputs": [
    {
     "name": "stdout",
     "output_type": "stream",
     "text": [
      "DatasetDict({\n",
      "    train: Dataset({\n",
      "        features: ['RecipeId', 'Barcode', 'Name', 'AuthorId', 'AuthorName', 'CookTime', 'PrepTime', 'TotalTime', 'DatePublished', 'Description', 'Images', 'RecipeCategory', 'Keywords', 'RecipeIngredientQuantities', 'RecipeIngredientParts', 'AggregatedRating', 'ReviewCount', 'Calories', 'FatContent', 'SaturatedFatContent', 'CholesterolContent', 'SodiumContent', 'CarbohydrateContent', 'FiberContent', 'SugarContent', 'ProteinContent', 'RecipeServings', 'RecipeYield', 'RecipeInstructions'],\n",
      "        num_rows: 1048543\n",
      "    })\n",
      "})\n"
     ]
    }
   ],
   "source": [
    "print(ds)"
   ]
  },
  {
   "cell_type": "code",
   "execution_count": 27,
   "id": "b038be20-1a4e-4b01-86b6-509c6e2a23d6",
   "metadata": {
    "tags": []
   },
   "outputs": [
    {
     "name": "stdout",
     "output_type": "stream",
     "text": [
      "Dataset({\n",
      "    features: ['RecipeId', 'Barcode', 'Name', 'AuthorId', 'AuthorName', 'CookTime', 'PrepTime', 'TotalTime', 'DatePublished', 'Description', 'Images', 'RecipeCategory', 'Keywords', 'RecipeIngredientQuantities', 'RecipeIngredientParts', 'AggregatedRating', 'ReviewCount', 'Calories', 'FatContent', 'SaturatedFatContent', 'CholesterolContent', 'SodiumContent', 'CarbohydrateContent', 'FiberContent', 'SugarContent', 'ProteinContent', 'RecipeServings', 'RecipeYield', 'RecipeInstructions'],\n",
      "    num_rows: 1048543\n",
      "})\n"
     ]
    }
   ],
   "source": [
    "train_dataset = ds[\"train\"]\n",
    "print(train_dataset)"
   ]
  },
  {
   "cell_type": "code",
   "execution_count": 28,
   "id": "af3b4169-d382-40d9-b7d7-51e8a3f00b62",
   "metadata": {
    "tags": []
   },
   "outputs": [
    {
     "data": {
      "text/html": [
       "<div>\n",
       "<style scoped>\n",
       "    .dataframe tbody tr th:only-of-type {\n",
       "        vertical-align: middle;\n",
       "    }\n",
       "\n",
       "    .dataframe tbody tr th {\n",
       "        vertical-align: top;\n",
       "    }\n",
       "\n",
       "    .dataframe thead th {\n",
       "        text-align: right;\n",
       "    }\n",
       "</style>\n",
       "<table border=\"1\" class=\"dataframe\">\n",
       "  <thead>\n",
       "    <tr style=\"text-align: right;\">\n",
       "      <th></th>\n",
       "      <th>RecipeId</th>\n",
       "      <th>Barcode</th>\n",
       "      <th>Name</th>\n",
       "      <th>AuthorId</th>\n",
       "      <th>AuthorName</th>\n",
       "      <th>CookTime</th>\n",
       "      <th>PrepTime</th>\n",
       "      <th>TotalTime</th>\n",
       "      <th>DatePublished</th>\n",
       "      <th>Description</th>\n",
       "      <th>...</th>\n",
       "      <th>SaturatedFatContent</th>\n",
       "      <th>CholesterolContent</th>\n",
       "      <th>SodiumContent</th>\n",
       "      <th>CarbohydrateContent</th>\n",
       "      <th>FiberContent</th>\n",
       "      <th>SugarContent</th>\n",
       "      <th>ProteinContent</th>\n",
       "      <th>RecipeServings</th>\n",
       "      <th>RecipeYield</th>\n",
       "      <th>RecipeInstructions</th>\n",
       "    </tr>\n",
       "  </thead>\n",
       "  <tbody>\n",
       "    <tr>\n",
       "      <th>0</th>\n",
       "      <td>38.0</td>\n",
       "      <td>*38*</td>\n",
       "      <td>Low-Fat Berry Blue Frozen Dessert</td>\n",
       "      <td>1533.0</td>\n",
       "      <td>Dancer</td>\n",
       "      <td>PT24H</td>\n",
       "      <td>PT45M</td>\n",
       "      <td>PT24H45M</td>\n",
       "      <td>1999-08-09T21:46:00Z</td>\n",
       "      <td>Make and share this Low-Fat Berry Blue Frozen ...</td>\n",
       "      <td>...</td>\n",
       "      <td>1.3</td>\n",
       "      <td>8.0</td>\n",
       "      <td>29.8</td>\n",
       "      <td>37.1</td>\n",
       "      <td>3.6</td>\n",
       "      <td>30.2</td>\n",
       "      <td>3.2</td>\n",
       "      <td>4.0</td>\n",
       "      <td>None</td>\n",
       "      <td>c(\"Toss 2 cups berries with sugar.\", \"Let stan...</td>\n",
       "    </tr>\n",
       "    <tr>\n",
       "      <th>1</th>\n",
       "      <td>39.0</td>\n",
       "      <td>*39*</td>\n",
       "      <td>Biryani</td>\n",
       "      <td>1567.0</td>\n",
       "      <td>elly9812</td>\n",
       "      <td>PT25M</td>\n",
       "      <td>PT4H</td>\n",
       "      <td>PT4H25M</td>\n",
       "      <td>1999-08-29T13:12:00Z</td>\n",
       "      <td>Make and share this Biryani recipe from Food.com.</td>\n",
       "      <td>...</td>\n",
       "      <td>16.6</td>\n",
       "      <td>372.8</td>\n",
       "      <td>368.4</td>\n",
       "      <td>84.4</td>\n",
       "      <td>9.0</td>\n",
       "      <td>20.4</td>\n",
       "      <td>63.4</td>\n",
       "      <td>6.0</td>\n",
       "      <td>None</td>\n",
       "      <td>c(\"Soak saffron in warm milk for 5 minutes and...</td>\n",
       "    </tr>\n",
       "    <tr>\n",
       "      <th>2</th>\n",
       "      <td>40.0</td>\n",
       "      <td>*40*</td>\n",
       "      <td>Best Lemonade</td>\n",
       "      <td>1566.0</td>\n",
       "      <td>Stephen Little</td>\n",
       "      <td>PT5M</td>\n",
       "      <td>PT30M</td>\n",
       "      <td>PT35M</td>\n",
       "      <td>1999-09-05T19:52:00Z</td>\n",
       "      <td>This is from one of my  first Good House Keepi...</td>\n",
       "      <td>...</td>\n",
       "      <td>0.0</td>\n",
       "      <td>0.0</td>\n",
       "      <td>1.8</td>\n",
       "      <td>81.5</td>\n",
       "      <td>0.4</td>\n",
       "      <td>77.2</td>\n",
       "      <td>0.3</td>\n",
       "      <td>4.0</td>\n",
       "      <td>None</td>\n",
       "      <td>c(\"Into a 1 quart Jar with tight fitting lid, ...</td>\n",
       "    </tr>\n",
       "  </tbody>\n",
       "</table>\n",
       "<p>3 rows × 29 columns</p>\n",
       "</div>"
      ],
      "text/plain": [
       "   RecipeId Barcode                               Name  AuthorId  \\\n",
       "0      38.0    *38*  Low-Fat Berry Blue Frozen Dessert    1533.0   \n",
       "1      39.0    *39*                            Biryani    1567.0   \n",
       "2      40.0    *40*                      Best Lemonade    1566.0   \n",
       "\n",
       "       AuthorName CookTime PrepTime TotalTime         DatePublished  \\\n",
       "0          Dancer    PT24H    PT45M  PT24H45M  1999-08-09T21:46:00Z   \n",
       "1        elly9812    PT25M     PT4H   PT4H25M  1999-08-29T13:12:00Z   \n",
       "2  Stephen Little     PT5M    PT30M     PT35M  1999-09-05T19:52:00Z   \n",
       "\n",
       "                                         Description  ... SaturatedFatContent  \\\n",
       "0  Make and share this Low-Fat Berry Blue Frozen ...  ...                 1.3   \n",
       "1  Make and share this Biryani recipe from Food.com.  ...                16.6   \n",
       "2  This is from one of my  first Good House Keepi...  ...                 0.0   \n",
       "\n",
       "  CholesterolContent SodiumContent CarbohydrateContent FiberContent  \\\n",
       "0                8.0          29.8                37.1          3.6   \n",
       "1              372.8         368.4                84.4          9.0   \n",
       "2                0.0           1.8                81.5          0.4   \n",
       "\n",
       "   SugarContent  ProteinContent  RecipeServings  RecipeYield  \\\n",
       "0          30.2             3.2             4.0         None   \n",
       "1          20.4            63.4             6.0         None   \n",
       "2          77.2             0.3             4.0         None   \n",
       "\n",
       "                                  RecipeInstructions  \n",
       "0  c(\"Toss 2 cups berries with sugar.\", \"Let stan...  \n",
       "1  c(\"Soak saffron in warm milk for 5 minutes and...  \n",
       "2  c(\"Into a 1 quart Jar with tight fitting lid, ...  \n",
       "\n",
       "[3 rows x 29 columns]"
      ]
     },
     "execution_count": 28,
     "metadata": {},
     "output_type": "execute_result"
    }
   ],
   "source": [
    "import pandas as pd\n",
    "\n",
    "train_dt = train_dataset.to_pandas()\n",
    "train_dt.head(3)"
   ]
  },
  {
   "cell_type": "code",
   "execution_count": 29,
   "id": "c3e8a746-2a7c-4a5b-9edd-56dd79e62eff",
   "metadata": {
    "tags": []
   },
   "outputs": [
    {
     "name": "stdout",
     "output_type": "stream",
     "text": [
      "<class 'pandas.core.frame.DataFrame'>\n",
      "RangeIndex: 1048543 entries, 0 to 1048542\n",
      "Data columns (total 29 columns):\n",
      " #   Column                      Non-Null Count   Dtype  \n",
      "---  ------                      --------------   -----  \n",
      " 0   RecipeId                    1228 non-null    float64\n",
      " 1   Barcode                     527203 non-null  object \n",
      " 2   Name                        1228 non-null    object \n",
      " 3   AuthorId                    1228 non-null    float64\n",
      " 4   AuthorName                  1228 non-null    object \n",
      " 5   CookTime                    725 non-null     object \n",
      " 6   PrepTime                    1228 non-null    object \n",
      " 7   TotalTime                   1228 non-null    object \n",
      " 8   DatePublished               1228 non-null    object \n",
      " 9   Description                 1228 non-null    object \n",
      " 10  Images                      1228 non-null    object \n",
      " 11  RecipeCategory              1228 non-null    object \n",
      " 12  Keywords                    1215 non-null    object \n",
      " 13  RecipeIngredientQuantities  1227 non-null    object \n",
      " 14  RecipeIngredientParts       1228 non-null    object \n",
      " 15  AggregatedRating            983 non-null     float64\n",
      " 16  ReviewCount                 996 non-null     float64\n",
      " 17  Calories                    1228 non-null    float64\n",
      " 18  FatContent                  1228 non-null    float64\n",
      " 19  SaturatedFatContent         1228 non-null    float64\n",
      " 20  CholesterolContent          1228 non-null    float64\n",
      " 21  SodiumContent               1228 non-null    float64\n",
      " 22  CarbohydrateContent         1228 non-null    float64\n",
      " 23  FiberContent                1228 non-null    float64\n",
      " 24  SugarContent                1228 non-null    float64\n",
      " 25  ProteinContent              1228 non-null    float64\n",
      " 26  RecipeServings              823 non-null     float64\n",
      " 27  RecipeYield                 389 non-null     object \n",
      " 28  RecipeInstructions          1228 non-null    object \n",
      "dtypes: float64(14), object(15)\n",
      "memory usage: 232.0+ MB\n"
     ]
    }
   ],
   "source": [
    "train_dt.info()"
   ]
  },
  {
   "cell_type": "code",
   "execution_count": 30,
   "id": "86cd0d7a-ca09-4350-9040-0d4669a717ea",
   "metadata": {
    "tags": []
   },
   "outputs": [
    {
     "data": {
      "text/plain": [
       "array(['c(\"blueberries\", \"granulated sugar\", \"vanilla yogurt\", \"lemon juice\")',\n",
       "       'c(\"saffron\", \"milk\", \"hot green chili peppers\", \"onions\", \"garlic\", \"clove\", \"peppercorns\", \"cardamom seed\", \"cumin seed\", \"poppy seed\", \"mace\", \"cilantro\", \"mint leaf\", \"fresh lemon juice\", \"plain yogurt\", \"boneless chicken\", \"salt\", \"ghee\", \"onion\", \"tomatoes\", \"basmati rice\", \"long-grain rice\", \"raisins\", \"cashews\", \"eggs\")',\n",
       "       'c(\"sugar\", \"lemons, rind of\", \"lemon, zest of\", \"fresh water\", \"fresh lemon juice\")', ..., 'c(\"lentils\", \"nonfat beef broth\", \"salt\", \"olive oil\", \"onions\", \"cayenne\", \"bay leaves\", \"bulgur\", \"fresh parsley\", \"tomatoes\", \"tomato paste\", \"dried rosemary\", \"spinach\", \"parsley\")',\n",
       "       'c(\"eggs\", \"cream of tartar\", \"sugar\", \"vanilla extract\", \"chocolate chips\", \"pecans\", \"heavy cream\")', None], dtype=object)"
      ]
     },
     "execution_count": 30,
     "metadata": {},
     "output_type": "execute_result"
    }
   ],
   "source": [
    "train_dt[\"RecipeIngredientParts\"].unique()"
   ]
  },
  {
   "cell_type": "code",
   "execution_count": 42,
   "id": "3bf3521b-fb04-4dbd-986b-152c4f728cf0",
   "metadata": {
    "tags": []
   },
   "outputs": [
    {
     "data": {
      "text/plain": [
       "array(['c(\"https://img.sndimg.com/food/image/upload/w_555,h_416,c_fit,fl_progressive,q_95/v1/img/recipes/38/YUeirxMLQaeE1h3v3qnM_229%20berry%20blue%20frzn%20dess.jpg\", \"https://img.sndimg.com/food/image/upload/w_555,h_416,c_fit,fl_progressive,q_95/v1/img/recipes/38/AFPDDHATWzQ0b1CDpDAT_255%20berry%20blue%20frzn%20dess.jpg\", \"https://img.sndimg.com/food/image/upload/w_555,h_416,c_fit,fl_progressive,q_95/v1/img/recipes/38/UYgf9nwMT2SGGJCuzILO_228%20berry%20blue%20frzn%20dess.jpg\", \"https://img.sndimg.com/food/image/upload/w_555,h_416,c_fit,fl_progressive,q_95/v1/img/recipes/38/PeBMJN2TGSaYks2759BA_20140722_202142.jpg\", \\r\\n\"https://img.sndimg.com/food/image/upload/w_555,h_416,c_fit,fl_progressive,q_95/v1/img/recipes/38/picuaETeN.jpg\", \"https://img.sndimg.com/food/image/upload/w_555,h_416,c_fit,fl_progressive,q_95/v1/img/recipes/38/pictzvxW5.jpg\")',\n",
       "       'c(\"https://img.sndimg.com/food/image/upload/w_555,h_416,c_fit,fl_progressive,q_95/v1/img/recipes/39/picM9Mhnw.jpg\", \"https://img.sndimg.com/food/image/upload/w_555,h_416,c_fit,fl_progressive,q_95/v1/img/recipes/39/picHv4Ocr.jpg\")',\n",
       "       'c(\"https://img.sndimg.com/food/image/upload/w_555,h_416,c_fit,fl_progressive,q_95/v1/img/recipes/40/picJ4Sz3N.jpg\", \"https://img.sndimg.com/food/image/upload/w_555,h_416,c_fit,fl_progressive,q_95/v1/img/recipes/40/pic23FWio.jpg\")',\n",
       "       'c(\"https://img.sndimg.com/food/image/upload/w_555,h_416,c_fit,fl_progressive,q_95/v1/img/recipes/41/picmbLig8.jpg\", \"https://img.sndimg.com/food/image/upload/w_555,h_416,c_fit,fl_progressive,q_95/v1/img/recipes/41/picL02w0s.jpg\")',\n",
       "       '\"https://img.sndimg.com/food/image/upload/w_555,h_416,c_fit,fl_progressive,q_95/v1/img/recipes/42/picVEMxk8.jpg\"'], dtype=object)"
      ]
     },
     "execution_count": 42,
     "metadata": {},
     "output_type": "execute_result"
    }
   ],
   "source": [
    "train_dt[\"Images\"].unique()[:5]"
   ]
  },
  {
   "cell_type": "code",
   "execution_count": 32,
   "id": "e892a6a0-39b2-4a5c-af06-2970d39e9fb4",
   "metadata": {
    "tags": []
   },
   "outputs": [
    {
     "name": "stdout",
     "output_type": "stream",
     "text": [
      "Total unique ingredients: 1221\n"
     ]
    }
   ],
   "source": [
    "# Flatten all ingredients into one big list\n",
    "all_ingredients = train_dt[\"RecipeIngredientParts\"].head(10000).dropna().explode()\n",
    "\n",
    "# Lowercase and remove NaNs\n",
    "ingredient_vocab = set(all_ingredients.dropna().str.lower())\n",
    "\n",
    "ingredient_vocab = list(ingredient_vocab)\n",
    "print(f\"Total unique ingredients: {len(ingredient_vocab)}\")"
   ]
  },
  {
   "cell_type": "code",
   "execution_count": 33,
   "id": "3b65d9b8-5228-4955-84a4-1095027f7b7e",
   "metadata": {
    "tags": []
   },
   "outputs": [],
   "source": [
    "#pip install ultralytics"
   ]
  },
  {
   "cell_type": "code",
   "execution_count": 47,
   "id": "95b0ce53-1ca0-4c6e-8c54-91d4ecb3336e",
   "metadata": {
    "tags": []
   },
   "outputs": [],
   "source": [
    "def clean_image_urls(image_path):\n",
    "    if isinstance(image_path, str) and image_path.startswith(\"c(\"):\n",
    "        # Step 1: Remove 'c(' at the start and ')' at the end\n",
    "        raw_image_string = image_path.strip()[2:-1]\n",
    "\n",
    "        # Step 2: Split smartly at '\", \"'\n",
    "        urls = raw_image_string.split('\", \"')\n",
    "\n",
    "        # Step 3: Clean any remaining quotes\n",
    "        urls = [u.strip('\"') for u in urls]\n",
    "        return urls\n",
    "    else:\n",
    "        return []  # Return empty list if no valid images"
   ]
  },
  {
   "cell_type": "code",
   "execution_count": 50,
   "id": "b138e85a-9455-4e4b-9278-2e1c18588a8d",
   "metadata": {
    "tags": []
   },
   "outputs": [
    {
     "data": {
      "text/plain": [
       "0    [https://img.sndimg.com/food/image/upload/w_55...\n",
       "1    [https://img.sndimg.com/food/image/upload/w_55...\n",
       "2    [https://img.sndimg.com/food/image/upload/w_55...\n",
       "3    [https://img.sndimg.com/food/image/upload/w_55...\n",
       "4                                                   []\n",
       "Name: clean_images, dtype: object"
      ]
     },
     "execution_count": 50,
     "metadata": {},
     "output_type": "execute_result"
    }
   ],
   "source": [
    "train_dt[\"clean_images\"] = train_dt[\"Images\"].apply(clean_image_urls)\n",
    "train_dt[\"clean_images\"].head(5)"
   ]
  },
  {
   "cell_type": "code",
   "execution_count": 57,
   "id": "7b830acf-3108-4eda-9c34-835908f30108",
   "metadata": {
    "tags": []
   },
   "outputs": [
    {
     "name": "stdout",
     "output_type": "stream",
     "text": [
      "\n",
      "0: 448x640 1 cake, 116.4ms\n",
      "Speed: 2.6ms preprocess, 116.4ms inference, 1.4ms postprocess per image at shape (1, 3, 448, 640)\n",
      "Detected items: ['cake']\n",
      "https://img.sndimg.com/food/image/upload/w_555,h_416,c_fit,fl_progressive,q_95/v1/img/recipes/49/m1z1F8S5mAZgyImm5zYw_Lombardi%20Chicken%203.jpg\n"
     ]
    }
   ],
   "source": [
    "from io import BytesIO\n",
    "\n",
    "import requests\n",
    "from PIL import Image\n",
    "from ultralytics import YOLO\n",
    "\n",
    "# Load YOLOv8 model\n",
    "model = YOLO(\"yolov8n.pt\")  # Pretrained on COCO\n",
    "\n",
    "# Example: working with one recipe\n",
    "urls = train_dt.iloc[11][\"clean_images\"]  # this is already a list of clean URLs\n",
    "\n",
    "# Choose the first image URL\n",
    "# Check if urls list is not empty\n",
    "if urls and len(urls) > 0:\n",
    "    first_url = urls[0]\n",
    "\n",
    "# Step 1: Download the image from URL\n",
    "response = requests.get(first_url)\n",
    "img = Image.open(BytesIO(response.content))\n",
    "\n",
    "# Step 2: Run YOLO detection\n",
    "results = model.predict(img)\n",
    "\n",
    "# Step 3: Extract detected class names\n",
    "detected_items = []\n",
    "for result in results:\n",
    "    for box in result.boxes.data:\n",
    "        cls = int(box[-1].item())  # class id\n",
    "        detected_items.append(model.names[cls])\n",
    "\n",
    "print(\"Detected items:\", detected_items)\n",
    "print(first_url)"
   ]
  },
  {
   "cell_type": "code",
   "execution_count": null,
   "id": "3be4adbf-60dd-46fc-887d-e5e124331f1b",
   "metadata": {},
   "outputs": [],
   "source": [
    "external_url = \"https://upload.wikimedia.org/wikipedia/commons/5/5b/Red_Apple.jpg\"\n",
    "\n",
    "response = requests.get(external_url)\n",
    "img = Image.open(BytesIO(response.content))\n",
    "results = model.predict(img)\n",
    "\n",
    "detected_items = []\n",
    "for result in results:\n",
    "    for box in result.boxes.data:\n",
    "        cls = int(box[-1].item())\n",
    "        detected_items.append(model.names[cls])\n",
    "\n",
    "print(\"Detected items:\", detected_items)\n",
    "print(external_url)\n"
   ]
  },
  {
   "cell_type": "code",
   "execution_count": 68,
   "id": "81b9b8c6-07a4-4bed-b071-9346bfb51fa3",
   "metadata": {
    "tags": []
   },
   "outputs": [
    {
     "data": {
      "text/plain": [
       "'/Users/Arani/Downloads/pantry.jpg'"
      ]
     },
     "execution_count": 68,
     "metadata": {},
     "output_type": "execute_result"
    }
   ],
   "source": [
    "path = \"/Users/Arani/Downloads/pantry.jpg\"\n",
    "path"
   ]
  },
  {
   "cell_type": "code",
   "execution_count": 71,
   "id": "4f667d79-9b35-4f00-9fa9-0e0ab47d3b29",
   "metadata": {
    "tags": []
   },
   "outputs": [
    {
     "ename": "ModuleNotFoundError",
     "evalue": "No module named 'google.colab'",
     "output_type": "error",
     "traceback": [
      "\u001b[0;31m---------------------------------------------------------------------------\u001b[0m",
      "\u001b[0;31mModuleNotFoundError\u001b[0m                       Traceback (most recent call last)",
      "Cell \u001b[0;32mIn[71], line 1\u001b[0m\n\u001b[0;32m----> 1\u001b[0m \u001b[38;5;28;01mfrom\u001b[39;00m\u001b[38;5;250m \u001b[39m\u001b[38;5;21;01mgoogle\u001b[39;00m\u001b[38;5;21;01m.\u001b[39;00m\u001b[38;5;21;01mcolab\u001b[39;00m\u001b[38;5;250m \u001b[39m\u001b[38;5;28;01mimport\u001b[39;00m files\n\u001b[1;32m      3\u001b[0m uploaded \u001b[38;5;241m=\u001b[39m files\u001b[38;5;241m.\u001b[39mupload()\n",
      "\u001b[0;31mModuleNotFoundError\u001b[0m: No module named 'google.colab'"
     ]
    }
   ],
   "source": [
    "from google.colab import files\n",
    "\n",
    "uploaded = files.upload()"
   ]
  },
  {
   "cell_type": "code",
   "execution_count": null,
   "id": "7af9b845-b903-4776-a3d2-924b04b7fdca",
   "metadata": {},
   "outputs": [],
   "source": [
    "# Once uploaded, you can access the file as shown below\n",
    "df = pd.read_csv(\"your_uploaded_file.csv\")\n",
    "df.head()"
   ]
  },
  {
   "cell_type": "code",
   "execution_count": 69,
   "id": "e595f803-9a33-4414-b7b0-bd341ca06a46",
   "metadata": {
    "tags": []
   },
   "outputs": [
    {
     "ename": "FileNotFoundError",
     "evalue": "[Errno 2] No such file or directory: '/Users/Arani/Downloads/pantry.jpg'",
     "output_type": "error",
     "traceback": [
      "\u001b[0;31m---------------------------------------------------------------------------\u001b[0m",
      "\u001b[0;31mFileNotFoundError\u001b[0m                         Traceback (most recent call last)",
      "Cell \u001b[0;32mIn[69], line 1\u001b[0m\n\u001b[0;32m----> 1\u001b[0m img \u001b[38;5;241m=\u001b[39m \u001b[43mImage\u001b[49m\u001b[38;5;241;43m.\u001b[39;49m\u001b[43mopen\u001b[49m\u001b[43m(\u001b[49m\u001b[43mpath\u001b[49m\u001b[43m)\u001b[49m  \u001b[38;5;66;03m# your own saved image\u001b[39;00m\n\u001b[1;32m      3\u001b[0m results \u001b[38;5;241m=\u001b[39m model\u001b[38;5;241m.\u001b[39mpredict(img)\n\u001b[1;32m      5\u001b[0m detected_items \u001b[38;5;241m=\u001b[39m []\n",
      "File \u001b[0;32m/opt/conda/lib/python3.10/site-packages/PIL/Image.py:3465\u001b[0m, in \u001b[0;36mopen\u001b[0;34m(fp, mode, formats)\u001b[0m\n\u001b[1;32m   3462\u001b[0m     filename \u001b[38;5;241m=\u001b[39m os\u001b[38;5;241m.\u001b[39mfspath(fp)\n\u001b[1;32m   3464\u001b[0m \u001b[38;5;28;01mif\u001b[39;00m filename:\n\u001b[0;32m-> 3465\u001b[0m     fp \u001b[38;5;241m=\u001b[39m \u001b[43mbuiltins\u001b[49m\u001b[38;5;241;43m.\u001b[39;49m\u001b[43mopen\u001b[49m\u001b[43m(\u001b[49m\u001b[43mfilename\u001b[49m\u001b[43m,\u001b[49m\u001b[43m \u001b[49m\u001b[38;5;124;43m\"\u001b[39;49m\u001b[38;5;124;43mrb\u001b[39;49m\u001b[38;5;124;43m\"\u001b[39;49m\u001b[43m)\u001b[49m\n\u001b[1;32m   3466\u001b[0m     exclusive_fp \u001b[38;5;241m=\u001b[39m \u001b[38;5;28;01mTrue\u001b[39;00m\n\u001b[1;32m   3467\u001b[0m \u001b[38;5;28;01melse\u001b[39;00m:\n",
      "\u001b[0;31mFileNotFoundError\u001b[0m: [Errno 2] No such file or directory: '/Users/Arani/Downloads/pantry.jpg'"
     ]
    }
   ],
   "source": [
    "img = Image.open(path)  # your own saved image\n",
    "\n",
    "results = model.predict(img)\n",
    "\n",
    "detected_items = []\n",
    "for result in results:\n",
    "    for box in result.boxes.data:\n",
    "        cls = int(box[-1].item())\n",
    "        detected_items.append(model.names[cls])\n",
    "\n",
    "print(\"Detected items:\", detected_items)"
   ]
  }
 ],
 "metadata": {
  "environment": {
   "kernel": "python3",
   "name": "tf2-gpu.2-17.m128",
   "type": "gcloud",
   "uri": "us-docker.pkg.dev/deeplearning-platform-release/gcr.io/tf2-gpu.2-17:m128"
  },
  "kernelspec": {
   "display_name": "Python 3 (Local)",
   "language": "python",
   "name": "python3"
  },
  "language_info": {
   "codemirror_mode": {
    "name": "ipython",
    "version": 3
   },
   "file_extension": ".py",
   "mimetype": "text/x-python",
   "name": "python",
   "nbconvert_exporter": "python",
   "pygments_lexer": "ipython3",
   "version": "3.10.16"
  }
 },
 "nbformat": 4,
 "nbformat_minor": 5
}
